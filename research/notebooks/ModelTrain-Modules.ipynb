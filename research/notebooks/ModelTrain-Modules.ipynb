{
 "cells": [
  {
   "cell_type": "code",
   "execution_count": null,
   "metadata": {},
   "outputs": [],
   "source": [
    "# Clone the repo\n",
    "!git clone -b main https://github.com/atikul-islam-sajib/DnCNN.git"
   ]
  },
  {
   "cell_type": "code",
   "execution_count": null,
   "metadata": {},
   "outputs": [],
   "source": [
    "# Change the directory\n",
    "%cd DnCNN"
   ]
  },
  {
   "cell_type": "code",
   "execution_count": null,
   "metadata": {},
   "outputs": [],
   "source": [
    "# Import the custom modules\n",
    "from src.dataloader import Loader\n",
    "from src.DnCNN import DnCNN\n",
    "from src.trainer import Trainer\n",
    "from src.test import Charts"
   ]
  },
  {
   "cell_type": "code",
   "execution_count": null,
   "metadata": {},
   "outputs": [],
   "source": [
    "# To create and unzip the images.zip file\n",
    "loader = Loader(image_path=\"/images.zip\",\n",
    "                batch_size=4,\n",
    "                image_size=128,\n",
    "                split_ratio=0.20)\n",
    "\n",
    "loader.unzip_folder()\n",
    "\n",
    "dataloader = loader.create_dataloader()"
   ]
  },
  {
   "cell_type": "code",
   "execution_count": null,
   "metadata": {},
   "outputs": [],
   "source": [
    "# show the images\n",
    "Loader.show_images()"
   ]
  },
  {
   "cell_type": "code",
   "execution_count": null,
   "metadata": {},
   "outputs": [],
   "source": [
    "# Do the training\n",
    "trainer = Trainer(\n",
    "    epochs=20,\n",
    "    lr = 0.001,\n",
    "    device = \"mps\",\n",
    "    display = False) # Check other arguments .....\n",
    "\n",
    "\n",
    "trainer.train()"
   ]
  },
  {
   "cell_type": "code",
   "execution_count": null,
   "metadata": {},
   "outputs": [],
   "source": [
    "# Check the training loss\n",
    "Trainer.display_metrics()"
   ]
  },
  {
   "cell_type": "code",
   "execution_count": null,
   "metadata": {},
   "outputs": [],
   "source": [
    "# Do the testing\n",
    "charts = Charts(device = \"mps\")\n",
    "\n",
    "charts.plot()"
   ]
  }
 ],
 "metadata": {
  "kernelspec": {
   "display_name": "GPSG",
   "language": "python",
   "name": "python3"
  },
  "language_info": {
   "codemirror_mode": {
    "name": "ipython",
    "version": 3
   },
   "file_extension": ".py",
   "mimetype": "text/x-python",
   "name": "python",
   "nbconvert_exporter": "python",
   "pygments_lexer": "ipython3",
   "version": "3.9.18"
  }
 },
 "nbformat": 4,
 "nbformat_minor": 2
}
